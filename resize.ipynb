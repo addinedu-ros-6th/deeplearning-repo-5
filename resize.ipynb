{
 "cells": [
  {
   "cell_type": "code",
   "execution_count": 24,
   "metadata": {},
   "outputs": [],
   "source": [
    "import os\n",
    "from PIL import Image"
   ]
  },
  {
   "cell_type": "code",
   "execution_count": 25,
   "metadata": {},
   "outputs": [],
   "source": [
    "input_path = '/home/jh/dev_ws/Yolo/datasets/datas/form/'\n",
    "output_path = '/home/jh/dev_ws/Yolo/datasets/datas/form_resize/'"
   ]
  },
  {
   "cell_type": "code",
   "execution_count": 26,
   "metadata": {},
   "outputs": [],
   "source": [
    "new_size = (512, 512)  # 원하는 크기 (가로, 세로)\n",
    "\n",
    "# 출력 폴더가 존재하지 않으면 생성\n",
    "if not os.path.exists(output_path):\n",
    "    os.makedirs(output_path)\n",
    "\n",
    "# 폴더 내 모든 파일에 대해 이미지 크기 변경\n",
    "for filename in os.listdir(input_path):\n",
    "    if filename.endswith(('.jpg', '.jpeg', '.png')):\n",
    "        img_path = os.path.join(input_path, filename)\n",
    "        img = Image.open(img_path)\n",
    "        img_resized = img.resize(new_size)\n",
    "        \n",
    "        # 변경된 이미지를 출력 폴더에 저장\n",
    "        out_path = os.path.join(output_path, filename)\n",
    "        img_resized.save(out_path)\n"
   ]
  },
  {
   "cell_type": "code",
   "execution_count": 1,
   "metadata": {},
   "outputs": [],
   "source": [
    "import json\n",
    "import os\n",
    "\n",
    "def convert_points_to_polygon(labelme_json):\n",
    "    with open(labelme_json, 'r') as f:\n",
    "        data = json.load(f)\n",
    "    \n",
    "    for shape in data['shapes']:\n",
    "        if shape['shape_type'] == 'points':\n",
    "            shape['shape_type'] = 'polygon'\n",
    "            shape['points'] = [shape['points']]\n",
    "    \n",
    "    with open(labelme_json, 'w') as f:\n",
    "        json.dump(data, f, indent=4)\n",
    "\n",
    "# 폴더 내 모든 JSON 파일 변환\n",
    "labelme_folder = '/home/jh/dev_ws/Yolo/datasets/wh/'\n",
    "for filename in os.listdir(labelme_folder):\n",
    "    if filename.endswith('.json'):\n",
    "        convert_points_to_polygon(os.path.join(labelme_folder, filename))"
   ]
  }
 ],
 "metadata": {
  "kernelspec": {
   "display_name": "YL_venv",
   "language": "python",
   "name": "python3"
  },
  "language_info": {
   "codemirror_mode": {
    "name": "ipython",
    "version": 3
   },
   "file_extension": ".py",
   "mimetype": "text/x-python",
   "name": "python",
   "nbconvert_exporter": "python",
   "pygments_lexer": "ipython3",
   "version": "3.10.12"
  }
 },
 "nbformat": 4,
 "nbformat_minor": 2
}
